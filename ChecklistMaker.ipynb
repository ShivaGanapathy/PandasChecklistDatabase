{
 "cells": [
  {
   "cell_type": "code",
   "execution_count": 35,
   "metadata": {},
   "outputs": [
    {
     "name": "stdout",
     "output_type": "stream",
     "text": [
      "What is the type of activityCertification\n",
      "Tell us about what you want to accomplishI want to complete my IT certification\n",
      "Enter where you would like to accomplish thisI would like to work on this in my free time at home\n",
      "input linksNone\n",
      "input extra notesAt least an hour a day!\n",
      "in how many days is this due?10\n"
     ]
    }
   ],
   "source": [
    "import pandas as pd\n",
    "import time\n",
    "import datetime\n",
    "\n",
    "try: \n",
    "    springbreak = pd.read_csv(\"springbreak.csv\")\n",
    "except:\n",
    "    springbreak = pd.DataFrame()\n",
    "\n",
    "#we will make a function that takes input and inserts into df\n",
    "\n",
    "def deadliner(days):\n",
    "    tdy = datetime.date.today()\n",
    "    if days ==0:\n",
    "        date = tdy\n",
    "    elif days > 0:\n",
    "        tdelta = datetime.timedelta(days=days)\n",
    "        date = tdy + tdelta\n",
    "        \n",
    "    dowkey = [\"Monday\",'Tuesday',\"Wednesday\",\"Thursday\",\"Friday\",\"Saturday\",\"Sunday\"]\n",
    "    return dowkey[date.weekday()],date\n",
    "\n",
    "def update(data):\n",
    "    categ = input(\"What is the type of activity\")\n",
    "    description = input(\"Tell us about what you want to accomplish\")\n",
    "    location = input(\"Enter where you would like to accomplish this\")\n",
    "    links = input(\"input links\")\n",
    "    extranotes = input(\"input extra notes\")\n",
    "    try:\n",
    "        deadline = int(input(\"in how many days is this due?\"))\n",
    "        dow,deadline = deadliner(deadline)\n",
    "    except:\n",
    "        deadline = \"\"\n",
    "        dow = \"\"\n",
    "        \n",
    "    \n",
    "    # dictionary method\n",
    "    new_row = {\n",
    "        \"Type of Activity\":categ,\n",
    "        \"Deadline\":\"to be figured out\",\n",
    "        \"Description\": description,\n",
    "        \"Link to resources\":links,\n",
    "        \"Extra Notes\":extranotes,\n",
    "        \"Deadline\" : dow +\", \" + str(deadline)\n",
    "    }\n",
    "    \n",
    "    return data.append(new_row, ignore_index=True)\n",
    "    \n",
    "springbreak = update(springbreak)\n",
    "springbreak.to_csv(\"springbreak.csv\",index=False)\n",
    "\n"
   ]
  },
  {
   "cell_type": "code",
   "execution_count": 36,
   "metadata": {
    "scrolled": true
   },
   "outputs": [
    {
     "data": {
      "text/html": [
       "<div>\n",
       "<style scoped>\n",
       "    .dataframe tbody tr th:only-of-type {\n",
       "        vertical-align: middle;\n",
       "    }\n",
       "\n",
       "    .dataframe tbody tr th {\n",
       "        vertical-align: top;\n",
       "    }\n",
       "\n",
       "    .dataframe thead th {\n",
       "        text-align: right;\n",
       "    }\n",
       "</style>\n",
       "<table border=\"1\" class=\"dataframe\">\n",
       "  <thead>\n",
       "    <tr style=\"text-align: right;\">\n",
       "      <th></th>\n",
       "      <th>Deadline</th>\n",
       "      <th>Description</th>\n",
       "      <th>Extra Notes</th>\n",
       "      <th>Link to resources</th>\n",
       "      <th>Type of Activity</th>\n",
       "    </tr>\n",
       "  </thead>\n",
       "  <tbody>\n",
       "    <tr>\n",
       "      <th>0</th>\n",
       "      <td>Sunday, 2020-03-15</td>\n",
       "      <td>I want to finish the data preprocessing part o...</td>\n",
       "      <td>Make sure that you don't forget to account for...</td>\n",
       "      <td>https://www.kaggle.com/competitions</td>\n",
       "      <td>Data Science</td>\n",
       "    </tr>\n",
       "    <tr>\n",
       "      <th>1</th>\n",
       "      <td>Wednesday, 2020-03-18</td>\n",
       "      <td>I want to complete my IT certification</td>\n",
       "      <td>At least an hour a day!</td>\n",
       "      <td>None</td>\n",
       "      <td>Certification</td>\n",
       "    </tr>\n",
       "  </tbody>\n",
       "</table>\n",
       "</div>"
      ],
      "text/plain": [
       "                Deadline                                        Description  \\\n",
       "0     Sunday, 2020-03-15  I want to finish the data preprocessing part o...   \n",
       "1  Wednesday, 2020-03-18             I want to complete my IT certification   \n",
       "\n",
       "                                         Extra Notes  \\\n",
       "0  Make sure that you don't forget to account for...   \n",
       "1                            At least an hour a day!   \n",
       "\n",
       "                     Link to resources Type of Activity  \n",
       "0  https://www.kaggle.com/competitions     Data Science  \n",
       "1                                 None    Certification  "
      ]
     },
     "execution_count": 36,
     "metadata": {},
     "output_type": "execute_result"
    }
   ],
   "source": [
    "springbreak.head()"
   ]
  },
  {
   "cell_type": "code",
   "execution_count": null,
   "metadata": {
    "scrolled": false
   },
   "outputs": [],
   "source": []
  },
  {
   "cell_type": "code",
   "execution_count": null,
   "metadata": {},
   "outputs": [],
   "source": []
  }
 ],
 "metadata": {
  "kernelspec": {
   "display_name": "Python 3",
   "language": "python",
   "name": "python3"
  },
  "language_info": {
   "codemirror_mode": {
    "name": "ipython",
    "version": 3
   },
   "file_extension": ".py",
   "mimetype": "text/x-python",
   "name": "python",
   "nbconvert_exporter": "python",
   "pygments_lexer": "ipython3",
   "version": "3.7.1"
  }
 },
 "nbformat": 4,
 "nbformat_minor": 2
}
